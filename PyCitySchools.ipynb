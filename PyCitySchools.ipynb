{
 "cells": [
  {
   "cell_type": "markdown",
   "id": "cfbef3e3",
   "metadata": {},
   "source": [
    "# PyCity Schools Analysis\n",
    "\n",
    "- At first glance, students at charter schools appear to be performing better overall than students at public schools. Of the fifteen schools provided, the charter schools are the highest performing by percentage of students passing overall, while the public schools are the lowest performing by percentage of students passing overall. After closer inspection, however, we observe that only one out of the seven charter schools represented in this dataset are considered large, while all eight public schools are considered large. This is significant because the sample size of the public schools is larger than the charter school, resulting in greater variability. It's important to be congnizant of other factors that could be contributing to the trends observed here as well, such as geographic location, and that numbers only tell part of the story.\n",
    "  \n",
    "---"
   ]
  },
  {
   "cell_type": "code",
   "execution_count": 131,
   "id": "e62a8a0b",
   "metadata": {},
   "outputs": [],
   "source": [
    "#Import the pandas function library\n",
    "import pandas as pd\n",
    "\n",
    "#Open and read the csv files\n",
    "school_data = pd.read_csv('Resources/schools_complete.csv')\n",
    "student_data = pd.read_csv('Resources/students_complete.csv')\n",
    "\n",
    "#Combine the csv files\n",
    "school_and_student = pd.merge(student_data, school_data, how='left', on=['school_name', 'school_name'])"
   ]
  },
  {
   "cell_type": "markdown",
   "id": "32bf59be",
   "metadata": {},
   "source": [
    "## District Summary"
   ]
  },
  {
   "cell_type": "code",
   "execution_count": 96,
   "id": "74df1ad6",
   "metadata": {},
   "outputs": [],
   "source": [
    "#Count the number of occurences each unique school appears in 'school_name'\n",
    "school_count = school_and_student['school_name'].nunique()"
   ]
  },
  {
   "cell_type": "code",
   "execution_count": 97,
   "id": "c2b17cc2",
   "metadata": {},
   "outputs": [],
   "source": [
    "#Count the number of rows in the 'student_name' column\n",
    "student_count = school_and_student['student_name'].count()"
   ]
  },
  {
   "cell_type": "code",
   "execution_count": 98,
   "id": "03ac47a9",
   "metadata": {},
   "outputs": [],
   "source": [
    "#Add the budget of every unique school together\n",
    "total_budget = school_and_student.groupby('school_name').budget.max().sum()"
   ]
  },
  {
   "cell_type": "code",
   "execution_count": 99,
   "id": "9a7d7b99",
   "metadata": {},
   "outputs": [],
   "source": [
    "#Add the values in the 'math_score' column\n",
    "math_sum = school_and_student['math_score'].sum()\n",
    "\n",
    "#Calculate the average math score\n",
    "average_math_score = math_sum/student_count"
   ]
  },
  {
   "cell_type": "code",
   "execution_count": 100,
   "id": "f654f5f4",
   "metadata": {},
   "outputs": [],
   "source": [
    "#Add the values in the 'reading_score' column\n",
    "reading_sum = school_and_student['reading_score'].sum()\n",
    "\n",
    "#Calculate the average reading score\n",
    "average_reading_score = reading_sum/student_count"
   ]
  },
  {
   "cell_type": "code",
   "execution_count": 101,
   "id": "e2763cf7",
   "metadata": {},
   "outputs": [],
   "source": [
    "#Add math scores above 70 for 'student_name' column only\n",
    "passing_math_count = school_and_student[(school_and_student['math_score'] >= 70)].count()['student_name']\n",
    "\n",
    "#Calculate, on average, how many students are passing math\n",
    "passing_math_percentage = passing_math_count / float(student_count) * 100"
   ]
  },
  {
   "cell_type": "code",
   "execution_count": 102,
   "id": "db3896fd",
   "metadata": {},
   "outputs": [],
   "source": [
    "#Add reading scores above 70 for 'student_name' column only\n",
    "passing_reading_count = school_and_student[(school_and_student['reading_score'] >= 70)].count()['student_name']\n",
    "\n",
    "#Calculate, on average, how many students are passing reading\n",
    "passing_reading_percentage = passing_reading_count / float(student_count) * 100"
   ]
  },
  {
   "cell_type": "code",
   "execution_count": 103,
   "id": "540506f7",
   "metadata": {},
   "outputs": [],
   "source": [
    "#Determine the number of students passing both math and reading\n",
    "passing_math_reading_count = school_and_student[\n",
    "    (school_and_student['math_score'] >= 70) & (school_and_student['reading_score'] >= 70)\n",
    "].count()['student_name']\n",
    "\n",
    "#Calculate, on average, how many students are passing both math and reading\n",
    "overall_passing_rate = passing_math_reading_count /  float(student_count) * 100"
   ]
  },
  {
   "cell_type": "code",
   "execution_count": 104,
   "id": "1b553ce4",
   "metadata": {},
   "outputs": [],
   "source": [
    "#Summarize above calculations for all schools in new DataFrame\n",
    "district_summary = pd.DataFrame({\n",
    "    'Total Schools':school_count,\n",
    "    'Total Students': student_count,\n",
    "    'Total Budget': total_budget,\n",
    "    'Average Math Score': average_math_score,\n",
    "    'Average Reading Score': average_reading_score,\n",
    "    'Students Passing Math (Percent)': passing_math_percentage,\n",
    "    'Students Passing Reading (Percent)': passing_reading_percentage,\n",
    "    'Students Passing Both (Percent)': overall_passing_rate\n",
    "},index=[0])\n",
    "\n",
    "#Formatting\n",
    "district_summary['Total Students'] = district_summary['Total Students'].map(\"{:,}\".format)\n",
    "district_summary['Total Budget'] = district_summary['Total Budget'].map(\"${:,.2f}\".format)"
   ]
  },
  {
   "cell_type": "markdown",
   "id": "ef16d3cf",
   "metadata": {},
   "source": [
    "## School Summary"
   ]
  },
  {
   "cell_type": "code",
   "execution_count": 105,
   "id": "f54d5afb",
   "metadata": {},
   "outputs": [],
   "source": [
    "#Group calculations by school\n",
    "school_summary = school_and_student.groupby('school_name')"
   ]
  },
  {
   "cell_type": "code",
   "execution_count": 106,
   "id": "01d9438c",
   "metadata": {},
   "outputs": [],
   "source": [
    "#Display school type for each school\n",
    "school_type = school_summary.type.max()"
   ]
  },
  {
   "cell_type": "code",
   "execution_count": 107,
   "id": "a7557d22",
   "metadata": {},
   "outputs": [],
   "source": [
    "#Group student count by school\n",
    "school_groupby = school_and_student.groupby(['school_name']).count()\n",
    "\n",
    "#Display counts for 'student_name' column only\n",
    "per_school_counts = school_groupby['student_name']"
   ]
  },
  {
   "cell_type": "code",
   "execution_count": 108,
   "id": "90536f62",
   "metadata": {},
   "outputs": [],
   "source": [
    "#Calculate the budget at each school\n",
    "per_school_budget = school_summary['budget'].max()\n",
    "\n",
    "#Calculate the capita at each school\n",
    "per_school_capita = school_summary['budget'].max()/school_summary['size'].max()"
   ]
  },
  {
   "cell_type": "code",
   "execution_count": 109,
   "id": "5e7e72e5",
   "metadata": {},
   "outputs": [],
   "source": [
    "#Calculate the average math score at each school\n",
    "per_school_math = school_and_student.groupby('school_name')['math_score'].mean()\n",
    "\n",
    "#Calculate the average reading score at each school\n",
    "per_school_reading = school_and_student.groupby('school_name')['reading_score'].mean()"
   ]
  },
  {
   "cell_type": "code",
   "execution_count": 110,
   "id": "59865f4b",
   "metadata": {},
   "outputs": [],
   "source": [
    "#Calculate the number of students passing math\n",
    "students_passing_math = school_and_student[(school_and_student['math_score'] >= 70)]\n",
    "\n",
    "#Calculate the number of students passing math at each school\n",
    "school_students_passing_math = students_passing_math.groupby('school_name').math_score.count()"
   ]
  },
  {
   "cell_type": "code",
   "execution_count": 111,
   "id": "63055ac4",
   "metadata": {},
   "outputs": [],
   "source": [
    "#Calculate the number of students passing reading\n",
    "students_passing_reading = school_and_student[(school_and_student['reading_score'] >= 70)]\n",
    "\n",
    "#Calculate the number of students passing reading at each school\n",
    "school_students_passing_reading = students_passing_reading.groupby('school_name').reading_score.count()"
   ]
  },
  {
   "cell_type": "code",
   "execution_count": 113,
   "id": "82d6ed6a",
   "metadata": {},
   "outputs": [],
   "source": [
    "#Determine the number of students passing both math and reading \n",
    "students_passing_math_and_reading = school_and_student[\n",
    "    (school_and_student['reading_score'] >= 70) & (school_and_student['math_score'] >= 70)\n",
    "]\n",
    "\n",
    "#Calculate the number of students passing both math and reading at each school\n",
    "school_students_passing_math_and_reading = students_passing_math_and_reading.groupby(['school_name']).size()"
   ]
  },
  {
   "cell_type": "code",
   "execution_count": 114,
   "id": "53e56dd6",
   "metadata": {},
   "outputs": [],
   "source": [
    "#Calculate the average number of students passing math at each school\n",
    "per_school_passing_math = school_students_passing_math / per_school_counts * 100\n",
    "\n",
    "#Calculate the average number of students passing reading at each school\n",
    "per_school_passing_reading = school_students_passing_reading / per_school_counts * 100\n",
    "\n",
    "#Calculate the average number of students passing both math and reading at each school\n",
    "overall_passing_rate = school_students_passing_math_and_reading / per_school_counts * 100"
   ]
  },
  {
   "cell_type": "code",
   "execution_count": 115,
   "id": "e581d5a1",
   "metadata": {},
   "outputs": [],
   "source": [
    "#Summarize above calculations for each school in new DataFrame\n",
    "per_school_summary = pd.DataFrame({\n",
    "    'School Type': school_type,\n",
    "    'Total Students': per_school_counts,\n",
    "    'Total School Budget': per_school_budget,\n",
    "    'Per Student Budget': per_school_capita,\n",
    "    'Average Math Score': per_school_math,\n",
    "    'Average Reading Score': per_school_reading,\n",
    "    '% Passing Math': per_school_passing_math,\n",
    "    '% Passing Reading': per_school_passing_reading,\n",
    "    '% Overall Passing': overall_passing_rate\n",
    "})\n",
    "\n",
    "#Formatting\n",
    "per_school_summary['Total School Budget'] = per_school_summary['Total School Budget'].map(\"${:,.2f}\".format)\n",
    "per_school_summary['Per Student Budget'] = per_school_summary['Per Student Budget'].map(\"${:,.2f}\".format)"
   ]
  },
  {
   "cell_type": "markdown",
   "id": "b64ccc52",
   "metadata": {},
   "source": [
    "## Highest-Performing Schools (By % Overall Passing)"
   ]
  },
  {
   "cell_type": "code",
   "execution_count": 116,
   "id": "893bf265",
   "metadata": {},
   "outputs": [],
   "source": [
    "#Sort DataFrame by schools with the most students passing overall by percentage\n",
    "top_schools = per_school_summary.sort_values(by=['% Overall Passing'], ascending=False)"
   ]
  },
  {
   "cell_type": "markdown",
   "id": "c7822427",
   "metadata": {},
   "source": [
    "## Bottom Performing Schools (By % Overall Passing)"
   ]
  },
  {
   "cell_type": "code",
   "execution_count": 117,
   "id": "3aa8609a",
   "metadata": {},
   "outputs": [],
   "source": [
    "#Sort DataFrame by schools with the least students passing overall by percentage\n",
    "bottom_schools = per_school_summary.sort_values(by=['% Overall Passing'], ascending=True)"
   ]
  },
  {
   "cell_type": "markdown",
   "id": "1dd091ae",
   "metadata": {},
   "source": [
    "## Math Scores by Grade"
   ]
  },
  {
   "cell_type": "code",
   "execution_count": 118,
   "id": "5e6f67d3",
   "metadata": {},
   "outputs": [],
   "source": [
    "#Sort students by grade\n",
    "ninth_graders = school_and_student[(school_and_student['grade'] == '9th')]\n",
    "tenth_graders = school_and_student[(school_and_student['grade'] == '10th')]\n",
    "eleventh_graders = school_and_student[(school_and_student['grade'] == '11th')]\n",
    "twelfth_graders = school_and_student[(school_and_student['grade'] == '12th')]\n",
    "\n",
    "#Calculate average math score by grade\n",
    "ninth_grade_math_scores = ninth_graders.groupby('school_name')['math_score'].mean()\n",
    "tenth_grade_math_scores = tenth_graders.groupby('school_name')['math_score'].mean()\n",
    "eleventh_grade_math_scores = eleventh_graders.groupby('school_name')['math_score'].mean()\n",
    "twelfth_grade_math_scores = twelfth_graders.groupby('school_name')['math_score'].mean()\n",
    "\n",
    "#Summarize avaerage math scores by grade in new DataFrame\n",
    "math_scores_by_grade = pd.DataFrame({\n",
    "    '9th Grade': ninth_grade_math_scores,\n",
    "    '10th Grade': tenth_grade_math_scores,\n",
    "    '11th Grade': eleventh_grade_math_scores,\n",
    "    '12th Grade': twelfth_grade_math_scores\n",
    "})\n",
    "\n",
    "#Remove 'school_name' above schools\n",
    "math_scores_by_grade.index.name = None"
   ]
  },
  {
   "cell_type": "code",
   "execution_count": 120,
   "id": "a89b5bf8",
   "metadata": {},
   "outputs": [],
   "source": [
    "#Sort students by grade\n",
    "ninth_graders = school_and_student[(school_and_student['grade'] == '9th')]\n",
    "tenth_graders = school_and_student[(school_and_student['grade'] == '10th')]\n",
    "eleventh_graders = school_and_student[(school_and_student['grade'] == '11th')]\n",
    "twelfth_graders = school_and_student[(school_and_student['grade'] == '12th')]\n",
    "\n",
    "#Calculate average reading score by grade\n",
    "ninth_grade_reading_scores = ninth_graders.groupby('school_name')['reading_score'].mean()\n",
    "tenth_grade_reading_scores = tenth_graders.groupby('school_name')['reading_score'].mean()\n",
    "eleventh_grade_reading_scores = eleventh_graders.groupby('school_name')['reading_score'].mean()\n",
    "twelfth_grade_reading_scores = twelfth_graders.groupby('school_name')['reading_score'].mean()\n",
    "\n",
    "#Summarize average reading scores by grade in new DataFrame\n",
    "reading_scores_by_grade = pd.DataFrame({\n",
    "    '9th Grade': ninth_grade_reading_scores,\n",
    "    '10th Grade': tenth_grade_reading_scores,\n",
    "    '11th Grade': eleventh_grade_reading_scores,\n",
    "    '12th Grade': twelfth_grade_reading_scores\n",
    "})\n",
    "\n",
    "#Remove 'school_name' above schools\n",
    "reading_scores_by_grade.index.name = None"
   ]
  },
  {
   "cell_type": "markdown",
   "id": "5dab3c62",
   "metadata": {},
   "source": [
    "## Scores by School Spending"
   ]
  },
  {
   "cell_type": "code",
   "execution_count": 121,
   "id": "6844f37f",
   "metadata": {},
   "outputs": [],
   "source": [
    "#Range to sort 'Per Student Budget' by\n",
    "spending_bins = [0, 585, 630, 645, 680]\n",
    "\n",
    "#Labels for bins\n",
    "labels = ['<$585', '$585-630', '$630-645', '$645-680']"
   ]
  },
  {
   "cell_type": "code",
   "execution_count": 122,
   "id": "7808212f",
   "metadata": {},
   "outputs": [],
   "source": [
    "#Create new DataFrame variable identical to 'per_school_summary' DataFrame \n",
    "school_spending_df = per_school_summary.copy()\n",
    "\n",
    "#Create new column called 'Spending Ranges (Per Student)' that will bin the 'Per Student Budget' column by above ranges\n",
    "school_spending_df['Spending Ranges (Per Student)'] = pd.cut(per_school_capita, \n",
    "                                                             bins=spending_bins, \n",
    "                                                             right=True, \n",
    "                                                             labels=labels)"
   ]
  },
  {
   "cell_type": "code",
   "execution_count": 123,
   "id": "35491cc5",
   "metadata": {},
   "outputs": [],
   "source": [
    "#Calculate the average math score by spending ranges per student\n",
    "spending_math_scores = school_spending_df.groupby(['Spending Ranges (Per Student)'])['Average Math Score'].mean()\n",
    "\n",
    "#Calculate the average reading score by spending ranges per student\n",
    "spending_reading_scores = school_spending_df.groupby(['Spending Ranges (Per Student)'])['Average Reading Score'].mean()\n",
    "\n",
    "#Calculate the percent of students passing math by spending ranges per student\n",
    "spending_passing_math = school_spending_df.groupby(['Spending Ranges (Per Student)'])['% Passing Math'].mean()\n",
    "\n",
    "#Calculate the percent of students passing reading by spending ranges per student\n",
    "spending_passing_reading = school_spending_df.groupby(['Spending Ranges (Per Student)'])['% Passing Reading'].mean()\n",
    "\n",
    "#Calculate the percent of students passing both math and reading by spending ranges per student\n",
    "overall_passing_spending = school_spending_df.groupby(['Spending Ranges (Per Student)'])['% Overall Passing'].mean()"
   ]
  },
  {
   "cell_type": "code",
   "execution_count": 124,
   "id": "0fceda02",
   "metadata": {},
   "outputs": [],
   "source": [
    "#Assemble scores by spending into DataFrame \n",
    "spending_summary = pd.DataFrame({\n",
    "    'Average Math Score': spending_math_scores,\n",
    "    'Average Reading Score': spending_reading_scores,\n",
    "    '% Passing Math': spending_passing_math,\n",
    "    '% Passing Reading': spending_passing_reading,\n",
    "    '% Overall Passing': overall_passing_spending\n",
    "})"
   ]
  },
  {
   "cell_type": "markdown",
   "id": "5c33e5e3",
   "metadata": {},
   "source": [
    "## Scores by School Size"
   ]
  },
  {
   "cell_type": "code",
   "execution_count": 125,
   "id": "87428a3d",
   "metadata": {},
   "outputs": [],
   "source": [
    "#Range to sort 'per_school_counts' by\n",
    "size_bins = [0, 1000, 2000, 5000]\n",
    "\n",
    "#Labels for bins\n",
    "labels = ['Small (<1000)', 'Medium (1000-2000)', 'Large (2000-5000)']"
   ]
  },
  {
   "cell_type": "code",
   "execution_count": 126,
   "id": "d01d0878",
   "metadata": {},
   "outputs": [],
   "source": [
    "#Create new column called 'School Size' that will bin 'per_school_counts' by the above ranges\n",
    "per_school_summary['School Size'] = pd.cut(per_school_counts, \n",
    "                                           bins=size_bins, \n",
    "                                           right=True, \n",
    "                                           labels=labels)"
   ]
  },
  {
   "cell_type": "code",
   "execution_count": 127,
   "id": "515b9e86",
   "metadata": {},
   "outputs": [],
   "source": [
    "#Calculate the average math score by school size\n",
    "size_math_scores = per_school_summary.groupby(['School Size'])['Average Math Score'].mean()\n",
    "\n",
    "#Calculate the average reading score by school size\n",
    "size_reading_scores = per_school_summary.groupby(['School Size'])['Average Reading Score'].mean()\n",
    "\n",
    "#Calculate the percent of students passing math by score by school size\n",
    "size_passing_math = per_school_summary.groupby(['School Size'])['% Passing Math'].mean()\n",
    "\n",
    "#Calculate the percent of students passing reading by score by school size\n",
    "size_passing_reading = per_school_summary.groupby(['School Size'])['% Passing Reading'].mean()\n",
    "\n",
    "#Calculate the percent of students passing both math and reading by score by school size\n",
    "size_overall_passing = per_school_summary.groupby(['School Size'])['% Overall Passing'].mean()"
   ]
  },
  {
   "cell_type": "code",
   "execution_count": 128,
   "id": "05973f97",
   "metadata": {},
   "outputs": [],
   "source": [
    "#Assemble scores by school size into DataFrame \n",
    "size_summary = pd.DataFrame({\n",
    "    'Average Math Score': size_math_scores,\n",
    "    'Average Reading Score': size_reading_scores,\n",
    "    '% Passing Math': size_passing_math,\n",
    "    '% Passing Reading': size_passing_reading,\n",
    "    '% Overall Passing': size_overall_passing\n",
    "})"
   ]
  },
  {
   "cell_type": "markdown",
   "id": "fba681ef",
   "metadata": {},
   "source": [
    "## Scores by School Type"
   ]
  },
  {
   "cell_type": "code",
   "execution_count": 129,
   "id": "1a02011d",
   "metadata": {},
   "outputs": [],
   "source": [
    "#Calculate the average math score by school type\n",
    "average_math_score_by_type = per_school_summary.groupby(['School Type'])['Average Math Score'].mean()\n",
    "\n",
    "#Calculate the average reading score by school type\n",
    "average_reading_score_by_type = per_school_summary.groupby(['School Type'])['Average Reading Score'].mean()\n",
    "\n",
    "#Calculate the percent of student passing math by school type\n",
    "average_percent_passing_math_by_type = per_school_summary.groupby(['School Type'])['% Passing Math'].mean()\n",
    "\n",
    "#Calculate the percent of student passing reading by school type\n",
    "average_percent_passing_reading_by_type = per_school_summary.groupby(['School Type'])['% Passing Reading'].mean()\n",
    "\n",
    "#Calculate the percent of student passing both math and reading by school type\n",
    "average_percent_overall_passing_by_type = per_school_summary.groupby(['School Type'])['% Overall Passing'].mean()"
   ]
  },
  {
   "cell_type": "code",
   "execution_count": 130,
   "id": "857bb1bf",
   "metadata": {},
   "outputs": [],
   "source": [
    "#Assemble scores by school type into DataFrame \n",
    "type_summary = pd.DataFrame({\n",
    "    'Average Math Score': average_math_score_by_type,\n",
    "    'Average Reading Score': average_reading_score_by_type,\n",
    "    '% Passing Math': average_percent_passing_math_by_type,\n",
    "    '% Passing Reading': average_percent_passing_reading_by_type,\n",
    "    '% Overall Passing': average_percent_overall_passing_by_type\n",
    "})"
   ]
  }
 ],
 "metadata": {
  "kernelspec": {
   "display_name": "Python 3 (ipykernel)",
   "language": "python",
   "name": "python3"
  },
  "language_info": {
   "codemirror_mode": {
    "name": "ipython",
    "version": 3
   },
   "file_extension": ".py",
   "mimetype": "text/x-python",
   "name": "python",
   "nbconvert_exporter": "python",
   "pygments_lexer": "ipython3",
   "version": "3.11.5"
  }
 },
 "nbformat": 4,
 "nbformat_minor": 5
}
